{
 "cells": [
  {
   "cell_type": "code",
   "execution_count": 2,
   "id": "3534d788",
   "metadata": {},
   "outputs": [],
   "source": [
    "from pydantic import BaseModel\n",
    "from enum import Enum\n",
    "from typing import Dict, List"
   ]
  },
  {
   "cell_type": "code",
   "execution_count": 3,
   "id": "0ab846eb",
   "metadata": {},
   "outputs": [],
   "source": [
    "class MuscleGroup(Enum):\n",
    "    Chest = 1\n",
    "    Upper_back = 2\n",
    "    Lower_back = 3\n",
    "    Abs = 4\n",
    "    Traps = 5\n",
    "    Shoulders = 6\n",
    "    Biceps = 7\n",
    "    Triceps = 8\n",
    "    Neck = 9\n",
    "    Forearms = 10\n",
    "    Glutes = 11\n",
    "    Quads = 12\n",
    "    Hamstrings = 13\n",
    "    Calfs = 14\n",
    "    "
   ]
  },
  {
   "cell_type": "code",
   "execution_count": 4,
   "id": "d5def86f",
   "metadata": {},
   "outputs": [],
   "source": [
    "class Excercise(BaseModel):\n",
    "    engadements: Dict[MuscleGroup, float]"
   ]
  },
  {
   "cell_type": "code",
   "execution_count": 5,
   "id": "1b12079a",
   "metadata": {},
   "outputs": [],
   "source": [
    "class ExcercisePerformed(Excercise):\n",
    "    sets: int"
   ]
  },
  {
   "cell_type": "code",
   "execution_count": 6,
   "id": "6cd4ea4e",
   "metadata": {},
   "outputs": [],
   "source": [
    "class Training(BaseModel):\n",
    "    excercises: List[ExcercisePerformed]"
   ]
  },
  {
   "cell_type": "code",
   "execution_count": 7,
   "id": "b05c8bc7",
   "metadata": {},
   "outputs": [],
   "source": [
    "x = [k for k in MuscleGroup][0]"
   ]
  },
  {
   "cell_type": "code",
   "execution_count": 8,
   "id": "bd1e81a2",
   "metadata": {},
   "outputs": [],
   "source": [
    "def effective_sets(Training) -> Dict[MuscleGroup, float]:\n",
    "    result = {k: 0 for k in MuscleGroup}\n",
    "    for excercise in Training.excercises:\n",
    "        for k, v in excercise.engadements.items():\n",
    "            result[k] += v * excercise.sets\n",
    "    return result"
   ]
  },
  {
   "cell_type": "code",
   "execution_count": 9,
   "id": "072171b5",
   "metadata": {},
   "outputs": [],
   "source": [
    "x = ExcercisePerformed(engadements={MuscleGroup.Chest: 1.0, MuscleGroup.Shoulders: 0.8, MuscleGroup.Triceps: 0.7},\n",
    "                       sets=4)\n",
    "y = ExcercisePerformed(engadements={MuscleGroup.Shoulders: 1.0, MuscleGroup.Traps: 0.9},\n",
    "                       sets=4)\n",
    "z = ExcercisePerformed(engadements={MuscleGroup.Biceps: 1.0, MuscleGroup.Traps: 0.2},\n",
    "                       sets=4)"
   ]
  },
  {
   "cell_type": "code",
   "execution_count": 10,
   "id": "12a613b4",
   "metadata": {},
   "outputs": [
    {
     "data": {
      "text/plain": [
       "{<MuscleGroup.Chest: 1>: 4.0,\n",
       " <MuscleGroup.Upper_back: 2>: 0,\n",
       " <MuscleGroup.Lower_back: 3>: 0,\n",
       " <MuscleGroup.Abs: 4>: 0,\n",
       " <MuscleGroup.Traps: 5>: 4.4,\n",
       " <MuscleGroup.Shoulders: 6>: 7.2,\n",
       " <MuscleGroup.Biceps: 7>: 4.0,\n",
       " <MuscleGroup.Triceps: 8>: 2.8,\n",
       " <MuscleGroup.Neck: 9>: 0,\n",
       " <MuscleGroup.Forearms: 10>: 0,\n",
       " <MuscleGroup.Glutes: 11>: 0,\n",
       " <MuscleGroup.Quads: 12>: 0,\n",
       " <MuscleGroup.Hamstrings: 13>: 0,\n",
       " <MuscleGroup.Calfs: 14>: 0}"
      ]
     },
     "execution_count": 10,
     "metadata": {},
     "output_type": "execute_result"
    }
   ],
   "source": [
    "effective_sets(Training(excercises=[x, y, z]))"
   ]
  },
  {
   "cell_type": "code",
   "execution_count": null,
   "id": "f17a5489",
   "metadata": {},
   "outputs": [],
   "source": []
  },
  {
   "cell_type": "code",
   "execution_count": 11,
   "id": "e4721e86",
   "metadata": {},
   "outputs": [],
   "source": [
    "def score_trainig():\n",
    "    pass"
   ]
  },
  {
   "cell_type": "code",
   "execution_count": 12,
   "id": "4b461335",
   "metadata": {},
   "outputs": [],
   "source": [
    "class TrainingPlan:\n",
    "    pass"
   ]
  },
  {
   "cell_type": "code",
   "execution_count": 13,
   "id": "3d5f8cb4",
   "metadata": {},
   "outputs": [],
   "source": [
    "def score_training_plan():\n",
    "    pass"
   ]
  },
  {
   "cell_type": "code",
   "execution_count": null,
   "id": "bc064ec6",
   "metadata": {},
   "outputs": [],
   "source": []
  },
  {
   "cell_type": "markdown",
   "id": "ba5aaf30",
   "metadata": {},
   "source": [
    "# Download data"
   ]
  },
  {
   "cell_type": "code",
   "execution_count": null,
   "id": "c8c5055c",
   "metadata": {},
   "outputs": [],
   "source": []
  }
 ],
 "metadata": {
  "kernelspec": {
   "display_name": "python_3_10_default_env",
   "language": "python",
   "name": "python_3_10_default_env"
  },
  "language_info": {
   "codemirror_mode": {
    "name": "ipython",
    "version": 3
   },
   "file_extension": ".py",
   "mimetype": "text/x-python",
   "name": "python",
   "nbconvert_exporter": "python",
   "pygments_lexer": "ipython3",
   "version": "3.10.12"
  }
 },
 "nbformat": 4,
 "nbformat_minor": 5
}
