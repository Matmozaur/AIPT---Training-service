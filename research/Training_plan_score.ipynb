{
 "cells": [
  {
   "cell_type": "code",
   "execution_count": 2,
   "id": "3534d788",
   "metadata": {},
   "outputs": [],
   "source": [
    "from pydantic import BaseModel\n",
    "from enum import Enum\n",
    "from typing import Dict, List"
   ]
  },
  {
   "cell_type": "code",
   "execution_count": 34,
   "id": "0ab846eb",
   "metadata": {},
   "outputs": [],
   "source": [
    "class MuscleGroup(str, Enum):\n",
    "    Chest = 'Chest'\n",
    "    Upper_back = 'Upper_back'\n",
    "    Lower_back = 'Lower_back'\n",
    "    Abs = 'Abs'\n",
    "    Traps = 'Traps'\n",
    "    Shoulders = 'Shoulders'\n",
    "    Biceps = 'Biceps'\n",
    "    Triceps = 'Triceps'\n",
    "    Neck = 'Neck'\n",
    "    Forearms = 'Forearms'\n",
    "    Glutes = 'Glutes'\n",
    "    Quads = 'Quads'\n",
    "    Hamstrings = 'Hamstrings'\n",
    "    Calfs = 'Calfs'\n",
    "    "
   ]
  },
  {
   "cell_type": "code",
   "execution_count": 35,
   "id": "d5def86f",
   "metadata": {},
   "outputs": [],
   "source": [
    "class Excercise(BaseModel):\n",
    "    name: str\n",
    "    engadements: Dict[MuscleGroup, float]\n",
    "\n",
    "class ExcercisePerformed(Excercise):\n",
    "    sets: int"
   ]
  },
  {
   "cell_type": "code",
   "execution_count": 37,
   "id": "6cd4ea4e",
   "metadata": {},
   "outputs": [],
   "source": [
    "class Training(BaseModel):\n",
    "    excercises: List[ExcercisePerformed]"
   ]
  },
  {
   "cell_type": "code",
   "execution_count": 39,
   "id": "b05c8bc7",
   "metadata": {},
   "outputs": [],
   "source": [
    "x = [k for k in MuscleGroup][0]"
   ]
  },
  {
   "cell_type": "code",
   "execution_count": 63,
   "id": "bd1e81a2",
   "metadata": {},
   "outputs": [],
   "source": [
    "def effective_sets(Training) -> Dict[MuscleGroup, float]:\n",
    "    result = {k: 0 for k in MuscleGroup}\n",
    "    for excercise in Training.excercises:\n",
    "        for k, v in excercise.engadements.items():\n",
    "            result[k] += v * excercise.sets\n",
    "    return {k: round(v, 2) for k, v in result.items()}"
   ]
  },
  {
   "cell_type": "code",
   "execution_count": 64,
   "id": "072171b5",
   "metadata": {},
   "outputs": [],
   "source": [
    "x = ExcercisePerformed(name='a',\n",
    "                       engadements={MuscleGroup.Chest: 1.0, MuscleGroup.Shoulders: 0.8, MuscleGroup.Triceps: 0.7},\n",
    "                       sets=4)\n",
    "y = ExcercisePerformed(name='b',\n",
    "                       engadements={MuscleGroup.Shoulders: 1.0, MuscleGroup.Traps: 0.9},\n",
    "                       sets=4)\n",
    "z = ExcercisePerformed(name='c',\n",
    "                       engadements={MuscleGroup.Biceps: 1.0, MuscleGroup.Traps: 0.2},\n",
    "                       sets=4)"
   ]
  },
  {
   "cell_type": "code",
   "execution_count": 65,
   "id": "12a613b4",
   "metadata": {},
   "outputs": [
    {
     "data": {
      "text/plain": [
       "{<MuscleGroup.Chest: 'Chest'>: 4.0,\n",
       " <MuscleGroup.Upper_back: 'Upper_back'>: 0,\n",
       " <MuscleGroup.Lower_back: 'Lower_back'>: 0,\n",
       " <MuscleGroup.Abs: 'Abs'>: 0,\n",
       " <MuscleGroup.Traps: 'Traps'>: 4.4,\n",
       " <MuscleGroup.Shoulders: 'Shoulders'>: 7.2,\n",
       " <MuscleGroup.Biceps: 'Biceps'>: 4.0,\n",
       " <MuscleGroup.Triceps: 'Triceps'>: 2.8,\n",
       " <MuscleGroup.Neck: 'Neck'>: 0,\n",
       " <MuscleGroup.Forearms: 'Forearms'>: 0,\n",
       " <MuscleGroup.Glutes: 'Glutes'>: 0,\n",
       " <MuscleGroup.Quads: 'Quads'>: 0,\n",
       " <MuscleGroup.Hamstrings: 'Hamstrings'>: 0,\n",
       " <MuscleGroup.Calfs: 'Calfs'>: 0}"
      ]
     },
     "execution_count": 65,
     "metadata": {},
     "output_type": "execute_result"
    }
   ],
   "source": [
    "effective_sets(Training(excercises=[x, y, z]))"
   ]
  },
  {
   "cell_type": "code",
   "execution_count": null,
   "id": "f17a5489",
   "metadata": {},
   "outputs": [],
   "source": []
  },
  {
   "cell_type": "code",
   "execution_count": 66,
   "id": "e4721e86",
   "metadata": {},
   "outputs": [],
   "source": [
    "def score_trainig():\n",
    "    pass"
   ]
  },
  {
   "cell_type": "code",
   "execution_count": 67,
   "id": "4b461335",
   "metadata": {},
   "outputs": [],
   "source": [
    "class TrainingPlan:\n",
    "    pass"
   ]
  },
  {
   "cell_type": "code",
   "execution_count": 68,
   "id": "3d5f8cb4",
   "metadata": {},
   "outputs": [],
   "source": [
    "def score_training_plan():\n",
    "    pass"
   ]
  },
  {
   "cell_type": "code",
   "execution_count": null,
   "id": "bc064ec6",
   "metadata": {},
   "outputs": [],
   "source": []
  },
  {
   "cell_type": "markdown",
   "id": "ba5aaf30",
   "metadata": {},
   "source": [
    "# Prepare data"
   ]
  },
  {
   "cell_type": "markdown",
   "id": "2177f07f",
   "metadata": {},
   "source": [
    "### From chat gpt and web scrapping"
   ]
  },
  {
   "cell_type": "code",
   "execution_count": 69,
   "id": "0949c448",
   "metadata": {},
   "outputs": [],
   "source": [
    "exercises = [\n",
    "    {\"Exercise\": \"Bench Press\", \"Muscle Groups Engaged\": {\"Chest\": 100, \"Triceps\": 80, \"Shoulders\": 60}},\n",
    "    {\"Exercise\": \"Squats\", \"Muscle Groups Engaged\": {\"Quads\": 100, \"Hamstrings\": 50, \"Glutes\": 80}},\n",
    "    {\"Exercise\": \"Deadlifts\", \"Muscle Groups Engaged\": {\"Hamstrings\": 100, \"Lower_back\": 80, \"Glutes\": 70}},\n",
    "    {\"Exercise\": \"Overhead Press\", \"Muscle Groups Engaged\": {\"Shoulders\": 100, \"Triceps\": 60, \"Upper_back\": 40}},\n",
    "    {\"Exercise\": \"Pull-Ups\", \"Muscle Groups Engaged\": {\"Upper_back\": 100, \"Biceps\": 70, \"Forearms\": 30}},\n",
    "    {\"Exercise\": \"Bent-Over Rows\", \"Muscle Groups Engaged\": {\"Upper_back\": 100, \"Traps\": 70, \"Biceps\": 50}},\n",
    "    {\"Exercise\": \"Lunges\", \"Muscle Groups Engaged\": {\"Quads\": 100, \"Hamstrings\": 40, \"Glutes\": 80}},\n",
    "    {\"Exercise\": \"Leg Press\", \"Muscle Groups Engaged\": {\"Quads\": 100, \"Hamstrings\": 25, \"Glutes\": 60}},\n",
    "    {\"Exercise\": \"Dips\", \"Muscle Groups Engaged\": {\"Chest\": 100, \"Triceps\": 80, \"Shoulders\": 30}},\n",
    "    {\"Exercise\": \"Barbell Curl\", \"Muscle Groups Engaged\": {\"Biceps\": 100, \"Forearms\": 20, \"Brachialis\": 30}},\n",
    "    {\"Exercise\": \"Tricep Pushdowns\", \"Muscle Groups Engaged\": {\"Triceps\": 100, \"Chest\": 20, \"Shoulders\": 10}},\n",
    "    {\"Exercise\": \"Leg Curls\", \"Muscle Groups Engaged\": {\"Hamstrings\": 100, \"Glutes\": 25, \"Calfs\": 10}},\n",
    "    {\"Exercise\": \"Plank\", \"Muscle Groups Engaged\": {\"Abs\": 100, \"Shoulders\": 30, \"Lower_back\": 20}},\n",
    "    {\"Exercise\": \"Lat Pulldowns\", \"Muscle Groups Engaged\": {\"Upper_back\": 100, \"Biceps\": 60, \"Forearms\": 20}},\n",
    "    {\"Exercise\": \"Romanian Deadlifts\", \"Muscle Groups Engaged\": {\"Hamstrings\": 100, \"Lower_back\": 70, \"Glutes\": 80}},\n",
    "    {\"Exercise\": \"Incline Bench Press\", \"Muscle Groups Engaged\": {\"Chest\": 100, \"Triceps\": 80, \"Shoulders\": 40}},\n",
    "    {\"Exercise\": \"Russian Twists\", \"Muscle Groups Engaged\": {\"Abs\": 100, \"Obliques\": 60, \"Lower_back\": 20}},\n",
    "    {\"Exercise\": \"Calf Raises\", \"Muscle Groups Engaged\": {\"Calfs\": 100, \"Tibialis_Anterior\": 20}},\n",
    "    {\"Exercise\": \"Face Pulls\", \"Muscle Groups Engaged\": {\"Upper_back\": 100, \"Traps\": 40, \"Shoulders\": 60}},\n",
    "    {\"Exercise\": \"Bicycle Crunches\", \"Muscle Groups Engaged\": {\"Abs\": 100, \"Obliques\": 60, \"Hip_Flexors\": 20}},\n",
    "    {\"Exercise\": \"Chest Flyes\", \"Muscle Groups Engaged\": {\"Chest\": 100, \"Shoulders\": 40, \"Triceps\": 30}},\n",
    "    {\"Exercise\": \"Hammer Curls\", \"Muscle Groups Engaged\": {\"Biceps\": 100, \"Forearms\": 40, \"Brachialis\": 30}},\n",
    "    {\"Exercise\": \"Lateral Raises\", \"Muscle Groups Engaged\": {\"Shoulders\": 100, \"Traps\": 40, \"Upper_back\": 20}},\n",
    "    {\"Exercise\": \"Reverse Flyes\", \"Muscle Groups Engaged\": {\"Upper_back\": 100, \"Rear_Delts\": 50, \"Traps\": 30}},\n",
    "    {\"Exercise\": \"Hack Squats\", \"Muscle Groups Engaged\": {\"Quads\": 100, \"Glutes\": 60, \"Hamstrings\": 30}},\n",
    "    {\"Exercise\": \"Arnold Press\", \"Muscle Groups Engaged\": {\"Shoulders\": 100, \"Triceps\": 50, \"Upper_back\": 30}},\n",
    "    {\"Exercise\": \"Front Squats\", \"Muscle Groups Engaged\": {\"Quads\": 100, \"Glutes\": 70, \"Hamstrings\": 30}},\n",
    "    {\"Exercise\": \"Close Grip Bench Press\", \"Muscle Groups Engaged\": {\"Triceps\": 100, \"Chest\": 30, \"Shoulders\": 20}},\n",
    "    {\"Exercise\": \"Sumo Deadlifts\", \"Muscle Groups Engaged\": {\"Hamstrings\": 100, \"Glutes\": 80, \"Lower_back\": 70}},\n",
    "    {\"Exercise\": \"Chin-Ups\", \"Muscle Groups Engaged\": {\"Upper_back\": 100, \"Biceps\": 70, \"Forearms\": 30}},\n",
    "    {\"Exercise\": \"T-Bar Rows\", \"Muscle Groups Engaged\": {\"Upper_back\": 100, \"Traps\": 60, \"Biceps\": 40}},\n",
    "    {\"Exercise\": \"Step-Ups\", \"Muscle Groups Engaged\": {\"Quads\": 100, \"Glutes\": 60, \"Hamstrings\": 20}},\n",
    "    {\"Exercise\": \"Skull Crushers\", \"Muscle Groups Engaged\": {\"Triceps\": 100, \"Chest\": 20, \"Shoulders\": 10}},\n",
    "    {\"Exercise\": \"Good Mornings\", \"Muscle Groups Engaged\": {\"Hamstrings\": 100, \"Lower_back\": 70, \"Glutes\": 60}},\n",
    "    {\"Exercise\": \"Cable Crunches\", \"Muscle Groups Engaged\": {\"Abs\": 100, \"Obliques\": 40, \"Lower_back\": 20}},\n",
    "    {\"Exercise\": \"Leg Extensions\", \"Muscle Groups Engaged\": {\"Quads\": 100, \"Hamstrings\": 10, \"Glutes\": 10}},\n",
    "    {\"Exercise\": \"Cable Rows\", \"Muscle Groups Engaged\": {\"Upper_back\": 100, \"Biceps\": 40, \"Traps\": 30}},\n",
    "    {\"Exercise\": \"Seated Leg Press\", \"Muscle Groups Engaged\": {\"Quads\": 100, \"Glutes\": 40, \"Hamstrings\": 20}},\n",
    "    {\"Exercise\": \"Dumbbell Pullovers\", \"Muscle Groups Engaged\": {\"Back\": 100, \"Chest\": 30, \"Lats\": 30}},\n",
    "    {\"Exercise\": \"Dumbbell Lunges\", \"Muscle Groups Engaged\": {\"Quads\": 100, \"Hamstrings\": 40, \"Glutes\": 70}},\n",
    "    {\"Exercise\": \"Hanging Leg Raises\", \"Muscle Groups Engaged\": {\"Abs\": 100, \"Hip_Flexors\": 40, \"Lower_back\": 20}},\n",
    "    {\"Exercise\": \"Reverse Lunges\", \"Muscle Groups Engaged\": {\"Quads\": 100, \"Hamstrings\": 30, \"Glutes\": 60}},\n",
    "    {\"Exercise\": \"Side Plank\", \"Muscle Groups Engaged\": {\"Obliques\": 100, \"Abs\": 40, \"Shoulders\": 20}},\n",
    "    {\"Exercise\": \"Incline Dumbbell Press\", \"Muscle Groups Engaged\": {\"Chest\": 100, \"Shoulders\": 40, \"Triceps\": 30}},\n",
    "    {\"Exercise\": \"Zottman Curls\", \"Muscle Groups Engaged\": {\"Biceps\": 100, \"Forearms\": 50, \"Brachialis\": 30}},\n",
    "    {\"Exercise\": \"Dumbbell Shrugs\", \"Muscle Groups Engaged\": {\"Traps\": 100, \"Upper_back\": 40, \"Shoulders\": 30}},\n",
    "    {\"Exercise\": \"Leg Raises\", \"Muscle Groups Engaged\": {\"Abs\": 100, \"Hip_Flexors\": 40, \"Lower_back\": 20}},\n",
    "    {\"Exercise\": \"Pec Deck Machine\", \"Muscle Groups Engaged\": {\"Chest\": 100, \"Shoulders\": 30, \"Triceps\": 20}},\n",
    "    {\"Exercise\": \"Cable Bicep Curls\", \"Muscle Groups Engaged\": {\"Biceps\": 100, \"Forearms\": 30, \"Brachialis\": 20}},\n",
    "    {\"Exercise\": \"Face Pulls\", \"Muscle Groups Engaged\": {\"Upper_back\": 100, \"Traps\": 40, \"Shoulders\": 60}},\n",
    "    {\"Exercise\": \"Hyperextensions\", \"Muscle Groups Engaged\": {\"Lower_back\": 100, \"Glutes\": 30, \"Hamstrings\": 20}},\n",
    "    {\"Exercise\": \"Side Lateral Raises\", \"Muscle Groups Engaged\": {\"Shoulders\": 100, \"Traps\": 40, \"Upper_back\": 20}},\n",
    "    {\"Exercise\": \"Standing Calf Raises\", \"Muscle Groups Engaged\": {\"Calfs\": 100, \"Tibialis_Anterior\": 20}},\n",
    "    {\"Exercise\": \"Decline Bench Press\", \"Muscle Groups Engaged\": {\"Chest\": 100, \"Triceps\": 70, \"Shoulders\": 40}},\n",
    "    {\"Exercise\": \"Sissy Squats\", \"Muscle Groups Engaged\": {\"Quads\": 100, \"Glutes\": 30, \"Hamstrings\": 20}},\n",
    "    {\"Exercise\": \"Preacher Curls\", \"Muscle Groups Engaged\": {\"Biceps\": 100, \"Forearms\": 30, \"Brachialis\": 20}},\n",
    "    {\"Exercise\": \"Bent Over Dumbbell Rows\", \"Muscle Groups Engaged\": {\"Upper_back\": 100, \"Traps\": 60, \"Biceps\": 40}},\n",
    "    {\"Exercise\": \"Leg Curl Machine\", \"Muscle Groups Engaged\": {\"Hamstrings\": 100, \"Glutes\": 30, \"Calves\": 20}},\n",
    "    {\"Exercise\": \"Russian Twists\", \"Muscle Groups Engaged\": {\"Abs\": 100, \"Obliques\": 60, \"Lower_back\": 20}},\n",
    "    {\"Exercise\": \"Incline Leg Press\", \"Muscle Groups Engaged\": {\"Quads\": 100, \"Glutes\": 40, \"Hamstrings\": 20}},\n",
    "    {\"Exercise\": \"Tricep Dips\", \"Muscle Groups Engaged\": {\"Triceps\": 100, \"Chest\": 30, \"Shoulders\": 20}},\n",
    "    {\"Exercise\": \"Cable Woodchoppers\", \"Muscle Groups Engaged\": {\"Obliques\": 100, \"Abs\": 40, \"Shoulders\": 20}},\n",
    "    {\"Exercise\": \"Machine Rows\", \"Muscle Groups Engaged\": {\"Upper_back\": 100, \"Biceps\": 40, \"Traps\": 30}},\n",
    "    {\"Exercise\": \"Machine Chest Press\", \"Muscle Groups Engaged\": {\"Chest\": 100, \"Triceps\": 70, \"Shoulders\": 40}},\n",
    "    {\"Exercise\": \"Walking Lunges\", \"Muscle Groups Engaged\": {\"Quads\": 100, \"Hamstrings\": 30, \"Glutes\": 60}},\n",
    "    {\"Exercise\": \"Hamstring Curls\", \"Muscle Groups Engaged\": {\"Hamstrings\": 100, \"Glutes\": 30, \"Calves\": 20}},\n",
    "    {\"Exercise\": \"Russian Twists\", \"Muscle Groups Engaged\": {\"Abs\": 100, \"Obliques\": 60, \"Lower_back\": 20}},\n",
    "    {\"Exercise\": \"Bent Over Dumbbell Rows\", \"Muscle Groups Engaged\": {\"Upper_back\": 100, \"Traps\": 60, \"Biceps\": 40}},\n",
    "    {\"Exercise\": \"Neck Flexion\", \"Muscle Groups Engaged\": {\"Neck\": 100}},\n",
    "    {\"Exercise\": \"Neck Extension\", \"Muscle Groups Engaged\": {\"Neck\": 100}},\n",
    "    {\"Exercise\": \"Neck Lateral Flexion\", \"Muscle Groups Engaged\": {\"Neck\": 100}},\n",
    "    {\"Exercise\": \"Neck Rotation\", \"Muscle Groups Engaged\": {\"Neck\": 100}},\n",
    "    {\"Exercise\": \"Shrugs\", \"Muscle Groups Engaged\": {\"Upper_back\": 100, \"Traps\": 100, \"Shoulders\": 30}}\n",
    "]\n",
    "\n"
   ]
  },
  {
   "cell_type": "code",
   "execution_count": 70,
   "id": "77140b87",
   "metadata": {},
   "outputs": [],
   "source": [
    "all_muscle_grouops = [k.value for k in MuscleGroup]"
   ]
  },
  {
   "cell_type": "code",
   "execution_count": 71,
   "id": "3486d65c",
   "metadata": {},
   "outputs": [],
   "source": [
    "exercises_2 = []\n",
    "for e in exercises:\n",
    "    exercises_2.append(Excercise(name=e['Exercise'],\n",
    "                  engadements={MuscleGroup(mg): round(eng/100, 2) for mg, eng in e['Muscle Groups Engaged'].items() \\\n",
    "                               if mg in all_muscle_grouops}))"
   ]
  },
  {
   "cell_type": "code",
   "execution_count": 72,
   "id": "6f326542",
   "metadata": {},
   "outputs": [
    {
     "data": {
      "text/plain": [
       "[Excercise(name='Bench Press', engadements={<MuscleGroup.Chest: 'Chest'>: 1.0, <MuscleGroup.Triceps: 'Triceps'>: 0.8, <MuscleGroup.Shoulders: 'Shoulders'>: 0.6}),\n",
       " Excercise(name='Squats', engadements={<MuscleGroup.Quads: 'Quads'>: 1.0, <MuscleGroup.Hamstrings: 'Hamstrings'>: 0.5, <MuscleGroup.Glutes: 'Glutes'>: 0.8}),\n",
       " Excercise(name='Deadlifts', engadements={<MuscleGroup.Hamstrings: 'Hamstrings'>: 1.0, <MuscleGroup.Lower_back: 'Lower_back'>: 0.8, <MuscleGroup.Glutes: 'Glutes'>: 0.7}),\n",
       " Excercise(name='Overhead Press', engadements={<MuscleGroup.Shoulders: 'Shoulders'>: 1.0, <MuscleGroup.Triceps: 'Triceps'>: 0.6, <MuscleGroup.Upper_back: 'Upper_back'>: 0.4}),\n",
       " Excercise(name='Pull-Ups', engadements={<MuscleGroup.Upper_back: 'Upper_back'>: 1.0, <MuscleGroup.Biceps: 'Biceps'>: 0.7, <MuscleGroup.Forearms: 'Forearms'>: 0.3}),\n",
       " Excercise(name='Bent-Over Rows', engadements={<MuscleGroup.Upper_back: 'Upper_back'>: 1.0, <MuscleGroup.Traps: 'Traps'>: 0.7, <MuscleGroup.Biceps: 'Biceps'>: 0.5}),\n",
       " Excercise(name='Lunges', engadements={<MuscleGroup.Quads: 'Quads'>: 1.0, <MuscleGroup.Hamstrings: 'Hamstrings'>: 0.4, <MuscleGroup.Glutes: 'Glutes'>: 0.8}),\n",
       " Excercise(name='Leg Press', engadements={<MuscleGroup.Quads: 'Quads'>: 1.0, <MuscleGroup.Hamstrings: 'Hamstrings'>: 0.25, <MuscleGroup.Glutes: 'Glutes'>: 0.6}),\n",
       " Excercise(name='Dips', engadements={<MuscleGroup.Chest: 'Chest'>: 1.0, <MuscleGroup.Triceps: 'Triceps'>: 0.8, <MuscleGroup.Shoulders: 'Shoulders'>: 0.3}),\n",
       " Excercise(name='Barbell Curl', engadements={<MuscleGroup.Biceps: 'Biceps'>: 1.0, <MuscleGroup.Forearms: 'Forearms'>: 0.2}),\n",
       " Excercise(name='Tricep Pushdowns', engadements={<MuscleGroup.Triceps: 'Triceps'>: 1.0, <MuscleGroup.Chest: 'Chest'>: 0.2, <MuscleGroup.Shoulders: 'Shoulders'>: 0.1}),\n",
       " Excercise(name='Leg Curls', engadements={<MuscleGroup.Hamstrings: 'Hamstrings'>: 1.0, <MuscleGroup.Glutes: 'Glutes'>: 0.25, <MuscleGroup.Calfs: 'Calfs'>: 0.1}),\n",
       " Excercise(name='Plank', engadements={<MuscleGroup.Abs: 'Abs'>: 1.0, <MuscleGroup.Shoulders: 'Shoulders'>: 0.3, <MuscleGroup.Lower_back: 'Lower_back'>: 0.2}),\n",
       " Excercise(name='Lat Pulldowns', engadements={<MuscleGroup.Upper_back: 'Upper_back'>: 1.0, <MuscleGroup.Biceps: 'Biceps'>: 0.6, <MuscleGroup.Forearms: 'Forearms'>: 0.2}),\n",
       " Excercise(name='Romanian Deadlifts', engadements={<MuscleGroup.Hamstrings: 'Hamstrings'>: 1.0, <MuscleGroup.Lower_back: 'Lower_back'>: 0.7, <MuscleGroup.Glutes: 'Glutes'>: 0.8}),\n",
       " Excercise(name='Incline Bench Press', engadements={<MuscleGroup.Chest: 'Chest'>: 1.0, <MuscleGroup.Triceps: 'Triceps'>: 0.8, <MuscleGroup.Shoulders: 'Shoulders'>: 0.4}),\n",
       " Excercise(name='Russian Twists', engadements={<MuscleGroup.Abs: 'Abs'>: 1.0, <MuscleGroup.Lower_back: 'Lower_back'>: 0.2}),\n",
       " Excercise(name='Calf Raises', engadements={<MuscleGroup.Calfs: 'Calfs'>: 1.0}),\n",
       " Excercise(name='Face Pulls', engadements={<MuscleGroup.Upper_back: 'Upper_back'>: 1.0, <MuscleGroup.Traps: 'Traps'>: 0.4, <MuscleGroup.Shoulders: 'Shoulders'>: 0.6}),\n",
       " Excercise(name='Bicycle Crunches', engadements={<MuscleGroup.Abs: 'Abs'>: 1.0}),\n",
       " Excercise(name='Chest Flyes', engadements={<MuscleGroup.Chest: 'Chest'>: 1.0, <MuscleGroup.Shoulders: 'Shoulders'>: 0.4, <MuscleGroup.Triceps: 'Triceps'>: 0.3}),\n",
       " Excercise(name='Hammer Curls', engadements={<MuscleGroup.Biceps: 'Biceps'>: 1.0, <MuscleGroup.Forearms: 'Forearms'>: 0.4}),\n",
       " Excercise(name='Lateral Raises', engadements={<MuscleGroup.Shoulders: 'Shoulders'>: 1.0, <MuscleGroup.Traps: 'Traps'>: 0.4, <MuscleGroup.Upper_back: 'Upper_back'>: 0.2}),\n",
       " Excercise(name='Reverse Flyes', engadements={<MuscleGroup.Upper_back: 'Upper_back'>: 1.0, <MuscleGroup.Traps: 'Traps'>: 0.3}),\n",
       " Excercise(name='Hack Squats', engadements={<MuscleGroup.Quads: 'Quads'>: 1.0, <MuscleGroup.Glutes: 'Glutes'>: 0.6, <MuscleGroup.Hamstrings: 'Hamstrings'>: 0.3}),\n",
       " Excercise(name='Arnold Press', engadements={<MuscleGroup.Shoulders: 'Shoulders'>: 1.0, <MuscleGroup.Triceps: 'Triceps'>: 0.5, <MuscleGroup.Upper_back: 'Upper_back'>: 0.3}),\n",
       " Excercise(name='Front Squats', engadements={<MuscleGroup.Quads: 'Quads'>: 1.0, <MuscleGroup.Glutes: 'Glutes'>: 0.7, <MuscleGroup.Hamstrings: 'Hamstrings'>: 0.3}),\n",
       " Excercise(name='Close Grip Bench Press', engadements={<MuscleGroup.Triceps: 'Triceps'>: 1.0, <MuscleGroup.Chest: 'Chest'>: 0.3, <MuscleGroup.Shoulders: 'Shoulders'>: 0.2}),\n",
       " Excercise(name='Sumo Deadlifts', engadements={<MuscleGroup.Hamstrings: 'Hamstrings'>: 1.0, <MuscleGroup.Glutes: 'Glutes'>: 0.8, <MuscleGroup.Lower_back: 'Lower_back'>: 0.7}),\n",
       " Excercise(name='Chin-Ups', engadements={<MuscleGroup.Upper_back: 'Upper_back'>: 1.0, <MuscleGroup.Biceps: 'Biceps'>: 0.7, <MuscleGroup.Forearms: 'Forearms'>: 0.3}),\n",
       " Excercise(name='T-Bar Rows', engadements={<MuscleGroup.Upper_back: 'Upper_back'>: 1.0, <MuscleGroup.Traps: 'Traps'>: 0.6, <MuscleGroup.Biceps: 'Biceps'>: 0.4}),\n",
       " Excercise(name='Step-Ups', engadements={<MuscleGroup.Quads: 'Quads'>: 1.0, <MuscleGroup.Glutes: 'Glutes'>: 0.6, <MuscleGroup.Hamstrings: 'Hamstrings'>: 0.2}),\n",
       " Excercise(name='Skull Crushers', engadements={<MuscleGroup.Triceps: 'Triceps'>: 1.0, <MuscleGroup.Chest: 'Chest'>: 0.2, <MuscleGroup.Shoulders: 'Shoulders'>: 0.1}),\n",
       " Excercise(name='Good Mornings', engadements={<MuscleGroup.Hamstrings: 'Hamstrings'>: 1.0, <MuscleGroup.Lower_back: 'Lower_back'>: 0.7, <MuscleGroup.Glutes: 'Glutes'>: 0.6}),\n",
       " Excercise(name='Cable Crunches', engadements={<MuscleGroup.Abs: 'Abs'>: 1.0, <MuscleGroup.Lower_back: 'Lower_back'>: 0.2}),\n",
       " Excercise(name='Leg Extensions', engadements={<MuscleGroup.Quads: 'Quads'>: 1.0, <MuscleGroup.Hamstrings: 'Hamstrings'>: 0.1, <MuscleGroup.Glutes: 'Glutes'>: 0.1}),\n",
       " Excercise(name='Cable Rows', engadements={<MuscleGroup.Upper_back: 'Upper_back'>: 1.0, <MuscleGroup.Biceps: 'Biceps'>: 0.4, <MuscleGroup.Traps: 'Traps'>: 0.3}),\n",
       " Excercise(name='Seated Leg Press', engadements={<MuscleGroup.Quads: 'Quads'>: 1.0, <MuscleGroup.Glutes: 'Glutes'>: 0.4, <MuscleGroup.Hamstrings: 'Hamstrings'>: 0.2}),\n",
       " Excercise(name='Dumbbell Pullovers', engadements={<MuscleGroup.Chest: 'Chest'>: 0.3}),\n",
       " Excercise(name='Dumbbell Lunges', engadements={<MuscleGroup.Quads: 'Quads'>: 1.0, <MuscleGroup.Hamstrings: 'Hamstrings'>: 0.4, <MuscleGroup.Glutes: 'Glutes'>: 0.7}),\n",
       " Excercise(name='Hanging Leg Raises', engadements={<MuscleGroup.Abs: 'Abs'>: 1.0, <MuscleGroup.Lower_back: 'Lower_back'>: 0.2}),\n",
       " Excercise(name='Reverse Lunges', engadements={<MuscleGroup.Quads: 'Quads'>: 1.0, <MuscleGroup.Hamstrings: 'Hamstrings'>: 0.3, <MuscleGroup.Glutes: 'Glutes'>: 0.6}),\n",
       " Excercise(name='Side Plank', engadements={<MuscleGroup.Abs: 'Abs'>: 0.4, <MuscleGroup.Shoulders: 'Shoulders'>: 0.2}),\n",
       " Excercise(name='Incline Dumbbell Press', engadements={<MuscleGroup.Chest: 'Chest'>: 1.0, <MuscleGroup.Shoulders: 'Shoulders'>: 0.4, <MuscleGroup.Triceps: 'Triceps'>: 0.3}),\n",
       " Excercise(name='Zottman Curls', engadements={<MuscleGroup.Biceps: 'Biceps'>: 1.0, <MuscleGroup.Forearms: 'Forearms'>: 0.5}),\n",
       " Excercise(name='Dumbbell Shrugs', engadements={<MuscleGroup.Traps: 'Traps'>: 1.0, <MuscleGroup.Upper_back: 'Upper_back'>: 0.4, <MuscleGroup.Shoulders: 'Shoulders'>: 0.3}),\n",
       " Excercise(name='Leg Raises', engadements={<MuscleGroup.Abs: 'Abs'>: 1.0, <MuscleGroup.Lower_back: 'Lower_back'>: 0.2}),\n",
       " Excercise(name='Pec Deck Machine', engadements={<MuscleGroup.Chest: 'Chest'>: 1.0, <MuscleGroup.Shoulders: 'Shoulders'>: 0.3, <MuscleGroup.Triceps: 'Triceps'>: 0.2}),\n",
       " Excercise(name='Cable Bicep Curls', engadements={<MuscleGroup.Biceps: 'Biceps'>: 1.0, <MuscleGroup.Forearms: 'Forearms'>: 0.3}),\n",
       " Excercise(name='Face Pulls', engadements={<MuscleGroup.Upper_back: 'Upper_back'>: 1.0, <MuscleGroup.Traps: 'Traps'>: 0.4, <MuscleGroup.Shoulders: 'Shoulders'>: 0.6}),\n",
       " Excercise(name='Hyperextensions', engadements={<MuscleGroup.Lower_back: 'Lower_back'>: 1.0, <MuscleGroup.Glutes: 'Glutes'>: 0.3, <MuscleGroup.Hamstrings: 'Hamstrings'>: 0.2}),\n",
       " Excercise(name='Side Lateral Raises', engadements={<MuscleGroup.Shoulders: 'Shoulders'>: 1.0, <MuscleGroup.Traps: 'Traps'>: 0.4, <MuscleGroup.Upper_back: 'Upper_back'>: 0.2}),\n",
       " Excercise(name='Standing Calf Raises', engadements={<MuscleGroup.Calfs: 'Calfs'>: 1.0}),\n",
       " Excercise(name='Decline Bench Press', engadements={<MuscleGroup.Chest: 'Chest'>: 1.0, <MuscleGroup.Triceps: 'Triceps'>: 0.7, <MuscleGroup.Shoulders: 'Shoulders'>: 0.4}),\n",
       " Excercise(name='Sissy Squats', engadements={<MuscleGroup.Quads: 'Quads'>: 1.0, <MuscleGroup.Glutes: 'Glutes'>: 0.3, <MuscleGroup.Hamstrings: 'Hamstrings'>: 0.2}),\n",
       " Excercise(name='Preacher Curls', engadements={<MuscleGroup.Biceps: 'Biceps'>: 1.0, <MuscleGroup.Forearms: 'Forearms'>: 0.3}),\n",
       " Excercise(name='Bent Over Dumbbell Rows', engadements={<MuscleGroup.Upper_back: 'Upper_back'>: 1.0, <MuscleGroup.Traps: 'Traps'>: 0.6, <MuscleGroup.Biceps: 'Biceps'>: 0.4}),\n",
       " Excercise(name='Leg Curl Machine', engadements={<MuscleGroup.Hamstrings: 'Hamstrings'>: 1.0, <MuscleGroup.Glutes: 'Glutes'>: 0.3}),\n",
       " Excercise(name='Russian Twists', engadements={<MuscleGroup.Abs: 'Abs'>: 1.0, <MuscleGroup.Lower_back: 'Lower_back'>: 0.2}),\n",
       " Excercise(name='Incline Leg Press', engadements={<MuscleGroup.Quads: 'Quads'>: 1.0, <MuscleGroup.Glutes: 'Glutes'>: 0.4, <MuscleGroup.Hamstrings: 'Hamstrings'>: 0.2}),\n",
       " Excercise(name='Tricep Dips', engadements={<MuscleGroup.Triceps: 'Triceps'>: 1.0, <MuscleGroup.Chest: 'Chest'>: 0.3, <MuscleGroup.Shoulders: 'Shoulders'>: 0.2}),\n",
       " Excercise(name='Cable Woodchoppers', engadements={<MuscleGroup.Abs: 'Abs'>: 0.4, <MuscleGroup.Shoulders: 'Shoulders'>: 0.2}),\n",
       " Excercise(name='Machine Rows', engadements={<MuscleGroup.Upper_back: 'Upper_back'>: 1.0, <MuscleGroup.Biceps: 'Biceps'>: 0.4, <MuscleGroup.Traps: 'Traps'>: 0.3}),\n",
       " Excercise(name='Machine Chest Press', engadements={<MuscleGroup.Chest: 'Chest'>: 1.0, <MuscleGroup.Triceps: 'Triceps'>: 0.7, <MuscleGroup.Shoulders: 'Shoulders'>: 0.4}),\n",
       " Excercise(name='Walking Lunges', engadements={<MuscleGroup.Quads: 'Quads'>: 1.0, <MuscleGroup.Hamstrings: 'Hamstrings'>: 0.3, <MuscleGroup.Glutes: 'Glutes'>: 0.6}),\n",
       " Excercise(name='Hamstring Curls', engadements={<MuscleGroup.Hamstrings: 'Hamstrings'>: 1.0, <MuscleGroup.Glutes: 'Glutes'>: 0.3}),\n",
       " Excercise(name='Russian Twists', engadements={<MuscleGroup.Abs: 'Abs'>: 1.0, <MuscleGroup.Lower_back: 'Lower_back'>: 0.2}),\n",
       " Excercise(name='Bent Over Dumbbell Rows', engadements={<MuscleGroup.Upper_back: 'Upper_back'>: 1.0, <MuscleGroup.Traps: 'Traps'>: 0.6, <MuscleGroup.Biceps: 'Biceps'>: 0.4}),\n",
       " Excercise(name='Neck Flexion', engadements={<MuscleGroup.Neck: 'Neck'>: 1.0}),\n",
       " Excercise(name='Neck Extension', engadements={<MuscleGroup.Neck: 'Neck'>: 1.0}),\n",
       " Excercise(name='Neck Lateral Flexion', engadements={<MuscleGroup.Neck: 'Neck'>: 1.0}),\n",
       " Excercise(name='Neck Rotation', engadements={<MuscleGroup.Neck: 'Neck'>: 1.0}),\n",
       " Excercise(name='Shrugs', engadements={<MuscleGroup.Upper_back: 'Upper_back'>: 1.0, <MuscleGroup.Traps: 'Traps'>: 1.0, <MuscleGroup.Shoulders: 'Shoulders'>: 0.3})]"
      ]
     },
     "execution_count": 72,
     "metadata": {},
     "output_type": "execute_result"
    }
   ],
   "source": [
    "exercises_2"
   ]
  },
  {
   "cell_type": "code",
   "execution_count": 73,
   "id": "192799d7",
   "metadata": {},
   "outputs": [
    {
     "data": {
      "text/plain": [
       "{<MuscleGroup.Chest: 'Chest'>: 9.3,\n",
       " <MuscleGroup.Upper_back: 'Upper_back'>: 14.5,\n",
       " <MuscleGroup.Lower_back: 'Lower_back'>: 5.3,\n",
       " <MuscleGroup.Abs: 'Abs'>: 8.8,\n",
       " <MuscleGroup.Traps: 'Traps'>: 7.0,\n",
       " <MuscleGroup.Shoulders: 'Shoulders'>: 10.3,\n",
       " <MuscleGroup.Biceps: 'Biceps'>: 9.5,\n",
       " <MuscleGroup.Triceps: 'Triceps'>: 9.7,\n",
       " <MuscleGroup.Neck: 'Neck'>: 4.0,\n",
       " <MuscleGroup.Forearms: 'Forearms'>: 2.5,\n",
       " <MuscleGroup.Glutes: 'Glutes'>: 11.25,\n",
       " <MuscleGroup.Quads: 'Quads'>: 13.0,\n",
       " <MuscleGroup.Hamstrings: 'Hamstrings'>: 10.85,\n",
       " <MuscleGroup.Calfs: 'Calfs'>: 2.1}"
      ]
     },
     "execution_count": 73,
     "metadata": {},
     "output_type": "execute_result"
    }
   ],
   "source": [
    "effective_sets(Training(excercises=[ExcercisePerformed(**e.model_dump(), sets=1) for e in exercises_2]))"
   ]
  },
  {
   "cell_type": "code",
   "execution_count": null,
   "id": "88acea35",
   "metadata": {},
   "outputs": [],
   "source": []
  },
  {
   "cell_type": "code",
   "execution_count": null,
   "id": "037302a8",
   "metadata": {},
   "outputs": [],
   "source": []
  },
  {
   "cell_type": "code",
   "execution_count": null,
   "id": "942264e2",
   "metadata": {},
   "outputs": [],
   "source": []
  }
 ],
 "metadata": {
  "kernelspec": {
   "display_name": "python_3_10_default_env",
   "language": "python",
   "name": "python_3_10_default_env"
  },
  "language_info": {
   "codemirror_mode": {
    "name": "ipython",
    "version": 3
   },
   "file_extension": ".py",
   "mimetype": "text/x-python",
   "name": "python",
   "nbconvert_exporter": "python",
   "pygments_lexer": "ipython3",
   "version": "3.10.12"
  }
 },
 "nbformat": 4,
 "nbformat_minor": 5
}
