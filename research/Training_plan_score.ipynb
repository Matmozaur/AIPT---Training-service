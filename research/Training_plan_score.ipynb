{
 "cells": [
  {
   "cell_type": "code",
   "execution_count": 1,
   "id": "3534d788",
   "metadata": {},
   "outputs": [],
   "source": [
    "from pydantic import BaseModel\n",
    "from enum import Enum\n",
    "from typing import Dict, List"
   ]
  },
  {
   "cell_type": "code",
   "execution_count": 2,
   "id": "0ab846eb",
   "metadata": {},
   "outputs": [],
   "source": [
    "class MuscleGroup(Enum):\n",
    "    Chest = 1\n",
    "    Upper_back = 2\n",
    "    Lower_back = 3\n",
    "    Abs = 4\n",
    "    Traps = 5\n",
    "    Shoulders = 6\n",
    "    Biceps = 7\n",
    "    Triceps = 8\n",
    "    Neck = 9\n",
    "    Forearms = 10\n",
    "    Glutes = 11\n",
    "    Quads = 12\n",
    "    Hamstrings = 13\n",
    "    Calfs = 14\n",
    "    "
   ]
  },
  {
   "cell_type": "code",
   "execution_count": 8,
   "id": "00e84d22",
   "metadata": {},
   "outputs": [
    {
     "data": {
      "text/plain": [
       "['Chest',\n",
       " 'Upper_back',\n",
       " 'Lower_back',\n",
       " 'Abs',\n",
       " 'Traps',\n",
       " 'Shoulders',\n",
       " 'Biceps',\n",
       " 'Triceps',\n",
       " 'Neck',\n",
       " 'Forearms',\n",
       " 'Glutes',\n",
       " 'Quads',\n",
       " 'Hamstrings',\n",
       " 'Calfs']"
      ]
     },
     "execution_count": 8,
     "metadata": {},
     "output_type": "execute_result"
    }
   ],
   "source": [
    "[e.name for e in MuscleGroup]"
   ]
  },
  {
   "cell_type": "code",
   "execution_count": 4,
   "id": "d5def86f",
   "metadata": {},
   "outputs": [],
   "source": [
    "class Excercise(BaseModel):\n",
    "    engadements: Dict[MuscleGroup, float]"
   ]
  },
  {
   "cell_type": "code",
   "execution_count": 5,
   "id": "1b12079a",
   "metadata": {},
   "outputs": [],
   "source": [
    "class ExcercisePerformed(Excercise):\n",
    "    sets: int"
   ]
  },
  {
   "cell_type": "code",
   "execution_count": 6,
   "id": "6cd4ea4e",
   "metadata": {},
   "outputs": [],
   "source": [
    "class Training(BaseModel):\n",
    "    excercises: List[ExcercisePerformed]"
   ]
  },
  {
   "cell_type": "code",
   "execution_count": 7,
   "id": "b05c8bc7",
   "metadata": {},
   "outputs": [],
   "source": [
    "x = [k for k in MuscleGroup][0]"
   ]
  },
  {
   "cell_type": "code",
   "execution_count": 8,
   "id": "bd1e81a2",
   "metadata": {},
   "outputs": [],
   "source": [
    "def effective_sets(Training) -> Dict[MuscleGroup, float]:\n",
    "    result = {k: 0 for k in MuscleGroup}\n",
    "    for excercise in Training.excercises:\n",
    "        for k, v in excercise.engadements.items():\n",
    "            result[k] += v * excercise.sets\n",
    "    return result"
   ]
  },
  {
   "cell_type": "code",
   "execution_count": 9,
   "id": "072171b5",
   "metadata": {},
   "outputs": [],
   "source": [
    "x = ExcercisePerformed(engadements={MuscleGroup.Chest: 1.0, MuscleGroup.Shoulders: 0.8, MuscleGroup.Triceps: 0.7},\n",
    "                       sets=4)\n",
    "y = ExcercisePerformed(engadements={MuscleGroup.Shoulders: 1.0, MuscleGroup.Traps: 0.9},\n",
    "                       sets=4)\n",
    "z = ExcercisePerformed(engadements={MuscleGroup.Biceps: 1.0, MuscleGroup.Traps: 0.2},\n",
    "                       sets=4)"
   ]
  },
  {
   "cell_type": "code",
   "execution_count": 10,
   "id": "12a613b4",
   "metadata": {},
   "outputs": [
    {
     "data": {
      "text/plain": [
       "{<MuscleGroup.Chest: 1>: 4.0,\n",
       " <MuscleGroup.Upper_back: 2>: 0,\n",
       " <MuscleGroup.Lower_back: 3>: 0,\n",
       " <MuscleGroup.Abs: 4>: 0,\n",
       " <MuscleGroup.Traps: 5>: 4.4,\n",
       " <MuscleGroup.Shoulders: 6>: 7.2,\n",
       " <MuscleGroup.Biceps: 7>: 4.0,\n",
       " <MuscleGroup.Triceps: 8>: 2.8,\n",
       " <MuscleGroup.Neck: 9>: 0,\n",
       " <MuscleGroup.Forearms: 10>: 0,\n",
       " <MuscleGroup.Glutes: 11>: 0,\n",
       " <MuscleGroup.Quads: 12>: 0,\n",
       " <MuscleGroup.Hamstrings: 13>: 0,\n",
       " <MuscleGroup.Calfs: 14>: 0}"
      ]
     },
     "execution_count": 10,
     "metadata": {},
     "output_type": "execute_result"
    }
   ],
   "source": [
    "effective_sets(Training(excercises=[x, y, z]))"
   ]
  },
  {
   "cell_type": "code",
   "execution_count": null,
   "id": "f17a5489",
   "metadata": {},
   "outputs": [],
   "source": []
  },
  {
   "cell_type": "code",
   "execution_count": 11,
   "id": "e4721e86",
   "metadata": {},
   "outputs": [],
   "source": [
    "def score_trainig():\n",
    "    pass"
   ]
  },
  {
   "cell_type": "code",
   "execution_count": 12,
   "id": "4b461335",
   "metadata": {},
   "outputs": [],
   "source": [
    "class TrainingPlan:\n",
    "    pass"
   ]
  },
  {
   "cell_type": "code",
   "execution_count": 13,
   "id": "3d5f8cb4",
   "metadata": {},
   "outputs": [],
   "source": [
    "def score_training_plan():\n",
    "    pass"
   ]
  },
  {
   "cell_type": "code",
   "execution_count": null,
   "id": "bc064ec6",
   "metadata": {},
   "outputs": [],
   "source": []
  },
  {
   "cell_type": "markdown",
   "id": "ba5aaf30",
   "metadata": {},
   "source": [
    "# Prepare data"
   ]
  },
  {
   "cell_type": "markdown",
   "id": "2177f07f",
   "metadata": {},
   "source": [
    "### From chat gpt"
   ]
  },
  {
   "cell_type": "code",
   "execution_count": 13,
   "id": "0949c448",
   "metadata": {},
   "outputs": [],
   "source": [
    "exercises = [\n",
    "    {\"Exercise\": \"Bench Press\", \"Muscle Groups Engaged\": {\"Chest\": 100, \"Triceps\": 80, \"Shoulders\": 60}},\n",
    "    {\"Exercise\": \"Squats\", \"Muscle Groups Engaged\": {\"Quads\": 100, \"Hamstrings\": 50, \"Glutes\": 80}},\n",
    "    {\"Exercise\": \"Deadlifts\", \"Muscle Groups Engaged\": {\"Hamstrings\": 100, \"Lower_back\": 80, \"Glutes\": 70}},\n",
    "    {\"Exercise\": \"Overhead Press\", \"Muscle Groups Engaged\": {\"Shoulders\": 100, \"Triceps\": 60, \"Upper_back\": 40}},\n",
    "    {\"Exercise\": \"Pull-Ups\", \"Muscle Groups Engaged\": {\"Upper_back\": 100, \"Biceps\": 70, \"Forearms\": 30}},\n",
    "    {\"Exercise\": \"Bent-Over Rows\", \"Muscle Groups Engaged\": {\"Upper_back\": 100, \"Traps\": 70, \"Biceps\": 50}},\n",
    "    {\"Exercise\": \"Lunges\", \"Muscle Groups Engaged\": {\"Quads\": 100, \"Hamstrings\": 40, \"Glutes\": 80}},\n",
    "    {\"Exercise\": \"Leg Press\", \"Muscle Groups Engaged\": {\"Quads\": 100, \"Hamstrings\": 25, \"Glutes\": 60}},\n",
    "    {\"Exercise\": \"Dips\", \"Muscle Groups Engaged\": {\"Chest\": 100, \"Triceps\": 80, \"Shoulders\": 30}},\n",
    "    {\"Exercise\": \"Barbell Curl\", \"Muscle Groups Engaged\": {\"Biceps\": 100, \"Forearms\": 20, \"Brachialis\": 30}},\n",
    "    {\"Exercise\": \"Tricep Pushdowns\", \"Muscle Groups Engaged\": {\"Triceps\": 100, \"Chest\": 20, \"Shoulders\": 10}},\n",
    "    {\"Exercise\": \"Leg Curls\", \"Muscle Groups Engaged\": {\"Hamstrings\": 100, \"Glutes\": 25, \"Calfs\": 10}},\n",
    "    {\"Exercise\": \"Plank\", \"Muscle Groups Engaged\": {\"Abs\": 100, \"Shoulders\": 30, \"Lower_back\": 20}},\n",
    "    {\"Exercise\": \"Lat Pulldowns\", \"Muscle Groups Engaged\": {\"Upper_back\": 100, \"Biceps\": 60, \"Forearms\": 20}},\n",
    "    {\"Exercise\": \"Romanian Deadlifts\", \"Muscle Groups Engaged\": {\"Hamstrings\": 100, \"Lower_back\": 70, \"Glutes\": 80}},\n",
    "    {\"Exercise\": \"Incline Bench Press\", \"Muscle Groups Engaged\": {\"Chest\": 100, \"Triceps\": 80, \"Shoulders\": 40}},\n",
    "    {\"Exercise\": \"Russian Twists\", \"Muscle Groups Engaged\": {\"Abs\": 100, \"Obliques\": 60, \"Lower_back\": 20}},\n",
    "    {\"Exercise\": \"Calf Raises\", \"Muscle Groups Engaged\": {\"Calfs\": 100, \"Tibialis_Anterior\": 20}},\n",
    "    {\"Exercise\": \"Face Pulls\", \"Muscle Groups Engaged\": {\"Upper_back\": 100, \"Traps\": 40, \"Shoulders\": 60}},\n",
    "    {\"Exercise\": \"Bicycle Crunches\", \"Muscle Groups Engaged\": {\"Abs\": 100, \"Obliques\": 60, \"Hip_Flexors\": 20}},\n",
    "    {\"Exercise\": \"Chest Flyes\", \"Muscle Groups Engaged\": {\"Chest\": 100, \"Shoulders\": 40, \"Triceps\": 30}},\n",
    "    {\"Exercise\": \"Hammer Curls\", \"Muscle Groups Engaged\": {\"Biceps\": 100, \"Forearms\": 40, \"Brachialis\": 30}},\n",
    "    {\"Exercise\": \"Lateral Raises\", \"Muscle Groups Engaged\": {\"Shoulders\": 100, \"Traps\": 40, \"Upper_back\": 20}},\n",
    "    {\"Exercise\": \"Reverse Flyes\", \"Muscle Groups Engaged\": {\"Upper_back\": 100, \"Rear_Delts\": 50, \"Traps\": 30}},\n",
    "    {\"Exercise\": \"Hack Squats\", \"Muscle Groups Engaged\": {\"Quads\": 100, \"Glutes\": 60, \"Hamstrings\": 30}},\n",
    "    {\"Exercise\": \"Arnold Press\", \"Muscle Groups Engaged\": {\"Shoulders\": 100, \"Triceps\": 50, \"Upper_back\": 30}},\n",
    "    {\"Exercise\": \"Front Squats\", \"Muscle Groups Engaged\": {\"Quads\": 100, \"Glutes\": 70, \"Hamstrings\": 30}},\n",
    "    {\"Exercise\": \"Close Grip Bench Press\", \"Muscle Groups Engaged\": {\"Triceps\": 100, \"Chest\": 30, \"Shoulders\": 20}},\n",
    "    {\"Exercise\": \"Sumo Deadlifts\", \"Muscle Groups Engaged\": {\"Hamstrings\": 100, \"Glutes\": 80, \"Lower_back\": 70}},\n",
    "    {\"Exercise\": \"Chin-Ups\", \"Muscle Groups Engaged\": {\"Upper_back\": 100, \"Biceps\": 70, \"Forearms\": 30}},\n",
    "    {\"Exercise\": \"T-Bar Rows\", \"Muscle Groups Engaged\": {\"Upper_back\": 100, \"Traps\": 60, \"Biceps\": 40}},\n",
    "    {\"Exercise\": \"Step-Ups\", \"Muscle Groups Engaged\": {\"Quads\": 100, \"Glutes\": 60, \"Hamstrings\": 20}},\n",
    "    {\"Exercise\": \"Skull Crushers\", \"Muscle Groups Engaged\": {\"Triceps\": 100, \"Chest\": 20, \"Shoulders\": 10}},\n",
    "    {\"Exercise\": \"Good Mornings\", \"Muscle Groups Engaged\": {\"Hamstrings\": 100, \"Lower_back\": 70, \"Glutes\": 60}},\n",
    "    {\"Exercise\": \"Cable Crunches\", \"Muscle Groups Engaged\": {\"Abs\": 100, \"Obliques\": 40, \"Lower_back\": 20}},\n",
    "    {\"Exercise\": \"Leg Extensions\", \"Muscle Groups Engaged\": {\"Quads\": 100, \"Hamstrings\": 10, \"Glutes\": 10}},\n",
    "    {\"Exercise\": \"Cable Rows\", \"Muscle Groups Engaged\": {\"Upper_back\": 100, \"Biceps\": 40, \"Traps\": 30}},\n",
    "    {\"Exercise\": \"Seated Leg Press\", \"Muscle Groups Engaged\": {\"Quads\": 100, \"Glutes\": 40, \"Hamstrings\": 20}},\n",
    "    {\"Exercise\": \"Dumbbell Pullovers\", \"Muscle Groups Engaged\": {\"Back\": 100, \"Chest\": 30, \"Lats\": 30}},\n",
    "    {\"Exercise\": \"Dumbbell Lunges\", \"Muscle Groups Engaged\": {\"Quads\": 100, \"Hamstrings\": 40, \"Glutes\": 70}},\n",
    "    {\"Exercise\": \"Hanging Leg Raises\", \"Muscle Groups Engaged\": {\"Abs\": 100, \"Hip_Flexors\": 40, \"Lower_back\": 20}},\n",
    "    {\"Exercise\": \"Reverse Lunges\", \"Muscle Groups Engaged\": {\"Quads\": 100, \"Hamstrings\": 30, \"Glutes\": 60}},\n",
    "    {\"Exercise\": \"Side Plank\", \"Muscle Groups Engaged\": {\"Obliques\": 100, \"Abs\": 40, \"Shoulders\": 20}},\n",
    "    {\"Exercise\": \"Incline Dumbbell Press\", \"Muscle Groups Engaged\": {\"Chest\": 100, \"Shoulders\": 40, \"Triceps\": 30}},\n",
    "    {\"Exercise\": \"Zottman Curls\", \"Muscle Groups Engaged\": {\"Biceps\": 100, \"Forearms\": 50, \"Brachialis\": 30}},\n",
    "    {\"Exercise\": \"Dumbbell Shrugs\", \"Muscle Groups Engaged\": {\"Traps\": 100, \"Upper_back\": 40, \"Shoulders\": 30}},\n",
    "    {\"Exercise\": \"Leg Raises\", \"Muscle Groups Engaged\": {\"Abs\": 100, \"Hip_Flexors\": 40, \"Lower_back\": 20}},\n",
    "    {\"Exercise\": \"Pec Deck Machine\", \"Muscle Groups Engaged\": {\"Chest\": 100, \"Shoulders\": 30, \"Triceps\": 20}},\n",
    "    {\"Exercise\": \"Cable Bicep Curls\", \"Muscle Groups Engaged\": {\"Biceps\": 100, \"Forearms\": 30, \"Brachialis\": 20}},\n",
    "    {\"Exercise\": \"Face Pulls\", \"Muscle Groups Engaged\": {\"Upper_back\": 100, \"Traps\": 40, \"Shoulders\": 60}},\n",
    "    {\"Exercise\": \"Hyperextensions\", \"Muscle Groups Engaged\": {\"Lower_back\": 100, \"Glutes\": 30, \"Hamstrings\": 20}},\n",
    "    {\"Exercise\": \"Side Lateral Raises\", \"Muscle Groups Engaged\": {\"Shoulders\": 100, \"Traps\": 40, \"Upper_back\": 20}},\n",
    "    {\"Exercise\": \"Standing Calf Raises\", \"Muscle Groups Engaged\": {\"Calfs\": 100, \"Tibialis_Anterior\": 20}},\n",
    "    {\"Exercise\": \"Decline Bench Press\", \"Muscle Groups Engaged\": {\"Chest\": 100, \"Triceps\": 70, \"Shoulders\": 40}},\n",
    "    {\"Exercise\": \"Sissy Squats\", \"Muscle Groups Engaged\": {\"Quads\": 100, \"Glutes\": 30, \"Hamstrings\": 20}},\n",
    "    {\"Exercise\": \"Preacher Curls\", \"Muscle Groups Engaged\": {\"Biceps\": 100, \"Forearms\": 30, \"Brachialis\": 20}},\n",
    "    {\"Exercise\": \"Bent Over Dumbbell Rows\", \"Muscle Groups Engaged\": {\"Upper_back\": 100, \"Traps\": 60, \"Biceps\": 40}},\n",
    "    {\"Exercise\": \"Leg Curl Machine\", \"Muscle Groups Engaged\": {\"Hamstrings\": 100, \"Glutes\": 30, \"Calves\": 20}},\n",
    "    {\"Exercise\": \"Russian Twists\", \"Muscle Groups Engaged\": {\"Abs\": 100, \"Obliques\": 60, \"Lower_back\": 20}},\n",
    "    {\"Exercise\": \"Incline Leg Press\", \"Muscle Groups Engaged\": {\"Quads\": 100, \"Glutes\": 40, \"Hamstrings\": 20}},\n",
    "    {\"Exercise\": \"Tricep Dips\", \"Muscle Groups Engaged\": {\"Triceps\": 100, \"Chest\": 30, \"Shoulders\": 20}},\n",
    "    {\"Exercise\": \"Cable Woodchoppers\", \"Muscle Groups Engaged\": {\"Obliques\": 100, \"Abs\": 40, \"Shoulders\": 20}},\n",
    "    {\"Exercise\": \"Machine Rows\", \"Muscle Groups Engaged\": {\"Upper_back\": 100, \"Biceps\": 40, \"Traps\": 30}},\n",
    "    {\"Exercise\": \"Machine Chest Press\", \"Muscle Groups Engaged\": {\"Chest\": 100, \"Triceps\": 70, \"Shoulders\": 40}},\n",
    "    {\"Exercise\": \"Walking Lunges\", \"Muscle Groups Engaged\": {\"Quads\": 100, \"Hamstrings\": 30, \"Glutes\": 60}},\n",
    "    {\"Exercise\": \"Hamstring Curls\", \"Muscle Groups Engaged\": {\"Hamstrings\": 100, \"Glutes\": 30, \"Calves\": 20}},\n",
    "    {\"Exercise\": \"Russian Twists\", \"Muscle Groups Engaged\": {\"Abs\": 100, \"Obliques\": 60, \"Lower_back\": 20}},\n",
    "    {\"Exercise\": \"Bent Over Dumbbell Rows\", \"Muscle Groups Engaged\": {\"Upper_back\": 100, \"Traps\": 60, \"Biceps\": 40}}\n",
    "]\n",
    "\n"
   ]
  },
  {
   "cell_type": "code",
   "execution_count": 14,
   "id": "3486d65c",
   "metadata": {},
   "outputs": [
    {
     "data": {
      "text/plain": [
       "68"
      ]
     },
     "execution_count": 14,
     "metadata": {},
     "output_type": "execute_result"
    }
   ],
   "source": [
    "len(exercises)"
   ]
  },
  {
   "cell_type": "code",
   "execution_count": null,
   "id": "6f326542",
   "metadata": {},
   "outputs": [],
   "source": []
  }
 ],
 "metadata": {
  "kernelspec": {
   "display_name": "python_3_10_default_env",
   "language": "python",
   "name": "python_3_10_default_env"
  },
  "language_info": {
   "codemirror_mode": {
    "name": "ipython",
    "version": 3
   },
   "file_extension": ".py",
   "mimetype": "text/x-python",
   "name": "python",
   "nbconvert_exporter": "python",
   "pygments_lexer": "ipython3",
   "version": "3.10.12"
  }
 },
 "nbformat": 4,
 "nbformat_minor": 5
}
